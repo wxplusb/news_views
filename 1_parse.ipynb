{
 "cells": [
  {
   "cell_type": "code",
   "execution_count": 1,
   "metadata": {},
   "outputs": [
    {
     "name": "stderr",
     "output_type": "stream",
     "text": [
      "[nltk_data] Downloading package stopwords to /root/nltk_data...\n",
      "[nltk_data]   Package stopwords is already up-to-date!\n"
     ]
    }
   ],
   "source": [
    "%load_ext autoreload\n",
    "%autoreload 1\n",
    "%aimport my\n",
    "\n",
    "import sys\n",
    "import numpy as np\n",
    "import pandas as pd\n",
    "import os\n",
    "import gc\n",
    "\n",
    "import my\n",
    "from my import p\n",
    "import text_utils\n",
    "\n",
    "pd.set_option(\"max_colwidth\", 25)\n",
    "pd.set_option(\"display.precision\", 1)\n",
    "pd.options.display.float_format = \"{:.3f}\".format\n",
    "\n",
    "from IPython.display import HTML, display\n",
    "\n",
    "import requests\n",
    "from bs4 import BeautifulSoup\n",
    "import text_utils\n",
    "     \n",
    "dir_out = \"out/\"\n",
    "dir_data = 'data/'\n",
    "os.makedirs(dir_out, exist_ok = True)\n",
    "RANDOM_STATE = 34\n",
    "\n",
    "np.random.seed(RANDOM_STATE)\n",
    "N_CPU = os.cpu_count()"
   ]
  },
  {
   "cell_type": "code",
   "execution_count": 2,
   "metadata": {},
   "outputs": [
    {
     "name": "stdout",
     "output_type": "stream",
     "text": [
      "(10000, 11) \n",
      " ~\n"
     ]
    }
   ],
   "source": [
    "train = pd.read_csv(dir_data+'train_dataset_train.csv',parse_dates=['publish_date'])\n",
    "test = pd.read_csv(dir_data+'test_dataset_test.csv',parse_dates=['publish_date'])\n",
    "data = pd.concat([train,test]).reset_index(drop=True)\n",
    "p(data.shape)"
   ]
  },
  {
   "cell_type": "markdown",
   "metadata": {},
   "source": [
    "### Парсинг страниц новостей\n",
    "Путем визуального осмотра установлено, что первые 24 символа document_id определяют часть URL страницы новости. Определим URL для всех новостей."
   ]
  },
  {
   "cell_type": "code",
   "execution_count": 3,
   "metadata": {},
   "outputs": [
    {
     "data": {
      "text/html": [
       "<div>\n",
       "<style scoped>\n",
       "    .dataframe tbody tr th:only-of-type {\n",
       "        vertical-align: middle;\n",
       "    }\n",
       "\n",
       "    .dataframe tbody tr th {\n",
       "        vertical-align: top;\n",
       "    }\n",
       "\n",
       "    .dataframe thead th {\n",
       "        text-align: right;\n",
       "    }\n",
       "</style>\n",
       "<table border=\"1\" class=\"dataframe\">\n",
       "  <thead>\n",
       "    <tr style=\"text-align: right;\">\n",
       "      <th></th>\n",
       "      <th>document_id</th>\n",
       "      <th>title</th>\n",
       "      <th>publish_date</th>\n",
       "      <th>session</th>\n",
       "      <th>authors</th>\n",
       "      <th>ctr</th>\n",
       "      <th>category</th>\n",
       "      <th>tags</th>\n",
       "      <th>views</th>\n",
       "      <th>depth</th>\n",
       "      <th>full_reads_percent</th>\n",
       "      <th>path</th>\n",
       "    </tr>\n",
       "  </thead>\n",
       "  <tbody>\n",
       "    <tr>\n",
       "      <th>0</th>\n",
       "      <td>624ac09c9a7947db3d80c...</td>\n",
       "      <td>Европейский банк разв...</td>\n",
       "      <td>2022-04-04 10:29:44</td>\n",
       "      <td>IDE7mtH4RBqGn-8MXfGffQ</td>\n",
       "      <td>[]</td>\n",
       "      <td>1.580</td>\n",
       "      <td>5409f11ce063da9c8b588a18</td>\n",
       "      <td>['55928d339a794751dc8...</td>\n",
       "      <td>20460.000</td>\n",
       "      <td>1.134</td>\n",
       "      <td>35.850</td>\n",
       "      <td>624ac09c9a7947db3d80c98e</td>\n",
       "    </tr>\n",
       "    <tr>\n",
       "      <th>1</th>\n",
       "      <td>620f6b899a7947701cf48...</td>\n",
       "      <td>Кремль назвал регуляр...</td>\n",
       "      <td>2022-02-18 10:00:39</td>\n",
       "      <td>KtVJsteHStO5oditt3Uvzw</td>\n",
       "      <td>['54244e01cbb20f03076...</td>\n",
       "      <td>1.853</td>\n",
       "      <td>5409f11ce063da9c8b588a12</td>\n",
       "      <td>['549d25df9a794775979...</td>\n",
       "      <td>19038.000</td>\n",
       "      <td>1.142</td>\n",
       "      <td>38.355</td>\n",
       "      <td>620f6b899a7947701cf489e1</td>\n",
       "    </tr>\n",
       "  </tbody>\n",
       "</table>\n",
       "</div>"
      ],
      "text/plain": [
       "                document_id                     title        publish_date  \\\n",
       "0  624ac09c9a7947db3d80c...  Европейский банк разв... 2022-04-04 10:29:44   \n",
       "1  620f6b899a7947701cf48...  Кремль назвал регуляр... 2022-02-18 10:00:39   \n",
       "\n",
       "                  session                   authors   ctr  \\\n",
       "0  IDE7mtH4RBqGn-8MXfGffQ                        [] 1.580   \n",
       "1  KtVJsteHStO5oditt3Uvzw  ['54244e01cbb20f03076... 1.853   \n",
       "\n",
       "                   category                      tags     views  depth  \\\n",
       "0  5409f11ce063da9c8b588a18  ['55928d339a794751dc8... 20460.000  1.134   \n",
       "1  5409f11ce063da9c8b588a12  ['549d25df9a794775979... 19038.000  1.142   \n",
       "\n",
       "   full_reads_percent                      path  \n",
       "0              35.850  624ac09c9a7947db3d80c98e  \n",
       "1              38.355  620f6b899a7947701cf489e1  "
      ]
     },
     "execution_count": 3,
     "metadata": {},
     "output_type": "execute_result"
    }
   ],
   "source": [
    "data['path'] = data['document_id'].str[:24]\n",
    "data[:2]"
   ]
  },
  {
   "cell_type": "code",
   "execution_count": 4,
   "metadata": {},
   "outputs": [
    {
     "data": {
      "text/plain": [
       "(9890,\n",
       " [['624ac09c9a7947db3d80c98e',\n",
       "   'https://www.rbc.ru/rbcfreenews/624ac09c9a7947db3d80c98e'],\n",
       "  ['620f6b899a7947701cf489e1',\n",
       "   'https://www.rbc.ru/rbcfreenews/620f6b899a7947701cf489e1'],\n",
       "  ['620730cf9a7947ab96a44e27',\n",
       "   'https://www.rbc.ru/rbcfreenews/620730cf9a7947ab96a44e27']])"
      ]
     },
     "execution_count": 4,
     "metadata": {},
     "output_type": "execute_result"
    }
   ],
   "source": [
    "data['url'] = 'https://www.rbc.ru/rbcfreenews/' + data['path']\n",
    "list_urls = data[['path','url']].drop_duplicates().to_numpy().tolist()\n",
    "len(list_urls),list_urls[:3]"
   ]
  },
  {
   "cell_type": "code",
   "execution_count": 5,
   "metadata": {},
   "outputs": [],
   "source": [
    "my.save_pickle(dir_data+'urls.pickle',list_urls)"
   ]
  },
  {
   "cell_type": "code",
   "execution_count": 6,
   "metadata": {},
   "outputs": [],
   "source": [
    "# Функция для извлечения признаков из html страницы новости\n",
    "def stat_article(info_page):\n",
    "    i, _, pg = info_page\n",
    "\n",
    "    bs = BeautifulSoup(pg, 'html.parser')\n",
    "\n",
    "    # находим элемент статьи\n",
    "    article = bs.find('div',class_='article__text')\n",
    "\n",
    "    st = {'path':i,\n",
    "    'ww_number_links':0,\n",
    "    'ww_have_overview':0,\n",
    "    'ww_have_ticker': 0,\n",
    "    'ww_len_overview':0,\n",
    "    'ww_num_symbols': 0,\n",
    "    'ww_num_symbols_until_item': 0,\n",
    "    'ww_pro_in_article':0,\n",
    "    'ww_num_inline_items':0,\n",
    "    'ww_have_iframe': 0,\n",
    "\n",
    "    'ww_number_ps':0,\n",
    "    'ww_num_symbols_until_pro':0,\n",
    "    'ww_have_video_recommend':0,\n",
    "    'ww_have_video_in': 0,\n",
    "    'ww_num_symbols_until_video_in':0,\n",
    "    'ww_have_image': 0,\n",
    "    'text': []\n",
    "    }\n",
    "\n",
    "    # перебираем все составляющие элементы статьи и вычисляем их количество, характеристики\n",
    "\n",
    "    st['ww_number_links'] = len(article.find_all('a',class_=''))\n",
    "    st['ww_number_ps'] = len(article.find_all('p',class_=''))\n",
    "\n",
    "    # есть ли обзор\n",
    "    elem = article.find('div',class_='article__text__overview')\n",
    "    if elem:\n",
    "        st['ww_have_overview'] = 1\n",
    "        st['ww_len_overview'] = len(elem.text)\n",
    "        st['ww_num_symbols'] += len(elem.text)\n",
    "        st['text'].append(elem.text)\n",
    "\n",
    "    # есть ли курсы валют в статье\n",
    "    elem = article.find('div',class_='article__ticker')\n",
    "    if elem:\n",
    "        st['ww_have_ticker'] = 1\n",
    "\n",
    "    # есть ли изображение\n",
    "    elem = article.find('div',class_='article__main-image')\n",
    "    if elem:\n",
    "        st['ww_have_image'] = 1\n",
    "\n",
    "    # есть ли встроенные объект\n",
    "    elem = article.find('iframe')\n",
    "    if elem:\n",
    "        st['ww_have_iframe'] = 1\n",
    "\n",
    "    elem = article.find('div',class_='video-autoplay-recommend')\n",
    "    if elem:\n",
    "        st['ww_have_video_recommend'] = 1\n",
    "\n",
    "    # количество элементов, ведущих на другие новости\n",
    "    elem = article.find_all('div',class_='article__inline-item')\n",
    "    if elem:\n",
    "        st['ww_num_inline_items'] = len(elem)\n",
    "\n",
    "    pro_anons = False\n",
    "    video_in = False\n",
    "\n",
    "    for ch in article.children:\n",
    "        if ch.name == None:\n",
    "            continue\n",
    "        \n",
    "        # подсчитываем количество символов на разных этапах статьи\n",
    "        if ch.name in ['p','ul']:\n",
    "            if pro_anons and st['ww_pro_in_article'] == 0:\n",
    "                st['ww_pro_in_article'] = 1\n",
    "                st['ww_num_symbols_until_pro'] = st['ww_num_symbols']\n",
    "\n",
    "            if video_in and st['ww_have_video_in'] == 0:\n",
    "                st['ww_have_video_in'] = 1\n",
    "                st['ww_num_symbols_until_video_in'] = st['ww_num_symbols']\n",
    "\n",
    "            if ch.find('div',class_='article__inline-item') and st['ww_num_symbols_until_item']==0:\n",
    "                st['ww_num_symbols_until_item'] = st['ww_num_symbols']\n",
    "\n",
    "            elif len(ch.text) > 20:\n",
    "                st['ww_num_symbols'] += len(ch.text)\n",
    "                st['text'].append(ch.text)\n",
    "\n",
    "        if ch.name == 'div' and ch.has_attr('class') and ch['class'][0] == 'article__special_container':\n",
    "            st['ww_num_symbols'] += len(ch.text)\n",
    "            \n",
    "\n",
    "        if ch.name == 'div' and ch.has_attr('class') and ch['class'][0] == 'pro-anons':\n",
    "            pro_anons = True\n",
    "\n",
    "        if ch.name == 'div' and ch.has_attr('class') and ch['class'][0] == 'fox-tail':\n",
    "            video_in = True\n",
    "            \n",
    "\n",
    "    if st['ww_num_symbols_until_item'] == 0:\n",
    "        st['ww_num_symbols_until_item'] = st['ww_num_symbols']\n",
    "\n",
    "    if st['ww_num_symbols_until_pro'] == 0:\n",
    "        st['ww_num_symbols_until_pro'] = st['ww_num_symbols']\n",
    "   \n",
    "    if st['ww_num_symbols_until_video_in'] == 0:\n",
    "        st['ww_num_symbols_until_video_in'] = 10000\n",
    "\n",
    "    st['ww_feat1'] = st['ww_num_symbols_until_item']/(st['ww_num_symbols']+1)\n",
    "    st['ww_feat2'] = st['ww_num_symbols_until_pro']/(st['ww_num_symbols']+1)\n",
    "    st['ww_feat3'] = st['ww_num_symbols_until_video_in']/(st['ww_num_symbols']+1)\n",
    "\n",
    "    st['text'] = ' '.join(st['text'])[:1000].replace('\\n','').replace('\\r','')\n",
    "   \n",
    "    return st"
   ]
  },
  {
   "cell_type": "markdown",
   "metadata": {},
   "source": [
    "### парсим страницы\n",
    "\n",
    "Выполняем запрос к странице сайта, получаем html страницы, извлекаем признаки из нее функцией stat_article, сохраняем результат в файл pages_info.p."
   ]
  },
  {
   "cell_type": "code",
   "execution_count": null,
   "metadata": {},
   "outputs": [],
   "source": [
    "res = []\n",
    "headers = requests.utils.default_headers()\n",
    "\n",
    "headers.update(\n",
    "        {\n",
    "            'User-Agent': 'Mozilla/5.0 (Windows NT 10.0; WOW64) AppleWebKit/537.36 (KHTML, like Gecko) Chrome/85.0.4183.102 YaBrowser/20.9.3.136 Yowser/2.5 Safari/537.36',\n",
    "        })\n",
    "\n",
    "s = requests.Session()\n",
    "\n",
    "for i in range(0,len(list_urls)):\n",
    "    \n",
    "    if i % 50 == 0:\n",
    "        s = requests.Session()\n",
    "            \n",
    "    response = s.get(list_urls[i][1],headers=headers)\n",
    "\n",
    "    if response.status_code != 200:\n",
    "        print('ОШИБКА', response.status_code, response.text)\n",
    "        break\n",
    "    \n",
    "    res.append(stat_article((list_urls[i][0],response.url,response.text)))"
   ]
  },
  {
   "cell_type": "code",
   "execution_count": null,
   "metadata": {},
   "outputs": [],
   "source": [
    "res = pd.DataFrame(res)\n",
    "res['text'] = text_utils.clean_text(res['text'],do_lemma=True)\n",
    "res.drop_duplicates(subset=['path'],inplace=True)\n",
    "res.set_index('path',inplace=True)\n",
    "res.to_parquet(dir_data+'pages_info.p')\n",
    "p(res.shape)\n",
    "res[:5]"
   ]
  }
 ],
 "metadata": {
  "kernelspec": {
   "display_name": "Python 3.8.12 ('comp_env')",
   "language": "python",
   "name": "python3"
  },
  "language_info": {
   "codemirror_mode": {
    "name": "ipython",
    "version": 3
   },
   "file_extension": ".py",
   "mimetype": "text/x-python",
   "name": "python",
   "nbconvert_exporter": "python",
   "pygments_lexer": "ipython3",
   "version": "3.8.12"
  },
  "orig_nbformat": 4,
  "vscode": {
   "interpreter": {
    "hash": "c13b908cc82c29bc132f813af6e0829373f5df47187b78eb0e1baddc37bbb0f5"
   }
  }
 },
 "nbformat": 4,
 "nbformat_minor": 2
}
